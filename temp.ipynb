{
 "cells": [
  {
   "cell_type": "code",
   "execution_count": 2,
   "metadata": {},
   "outputs": [],
   "source": [
    "file_path = \"./datas/FIBY_test.list\"  # Specify the file path\n",
    "file = open(file_path, \"w\")  # Open the file in write mode\n",
    "\n",
    "for i in range(1, 221):\n",
    "    frame_number = str(i).zfill(3)  # Zero-pad the frame number with leading zeros\n",
    "    output_text = f\"test/images/frame_{frame_number}.jpg test/ground_truth/frame_{frame_number}_sigma4.h5\\n\"\n",
    "    file.write(output_text)  # Write the output text to the file\n",
    "\n",
    "file.close()  # Close the file"
   ]
  },
  {
   "cell_type": "code",
   "execution_count": 3,
   "metadata": {},
   "outputs": [
    {
     "name": "stdout",
     "output_type": "stream",
     "text": [
      "/home/ubuntu/P2PNet/DATA_ROOT/test/frame_038.jpg\n",
      "/home/ubuntu/P2PNet/DATA_ROOT/test/frame_028.jpg\n",
      "/home/ubuntu/P2PNet/DATA_ROOT/test/frame_042.jpg\n",
      "/home/ubuntu/P2PNet/DATA_ROOT/test/frame_013.jpg\n",
      "/home/ubuntu/P2PNet/DATA_ROOT/test/frame_051.jpg\n",
      "/home/ubuntu/P2PNet/DATA_ROOT/test/frame_053.jpg\n",
      "/home/ubuntu/P2PNet/DATA_ROOT/test/frame_025.jpg\n",
      "/home/ubuntu/P2PNet/DATA_ROOT/test/frame_048.jpg\n",
      "/home/ubuntu/P2PNet/DATA_ROOT/test/frame_049.jpg\n",
      "/home/ubuntu/P2PNet/DATA_ROOT/test/frame_026.jpg\n",
      "/home/ubuntu/P2PNet/DATA_ROOT/test/frame_010.jpg\n",
      "/home/ubuntu/P2PNet/DATA_ROOT/test/frame_021.jpg\n",
      "/home/ubuntu/P2PNet/DATA_ROOT/test/frame_007.jpg\n",
      "/home/ubuntu/P2PNet/DATA_ROOT/test/frame_022.jpg\n",
      "/home/ubuntu/P2PNet/DATA_ROOT/test/frame_039.jpg\n",
      "/home/ubuntu/P2PNet/DATA_ROOT/test/frame_017.jpg\n",
      "/home/ubuntu/P2PNet/DATA_ROOT/test/frame_033.jpg\n",
      "/home/ubuntu/P2PNet/DATA_ROOT/test/frame_030.jpg\n",
      "/home/ubuntu/P2PNet/DATA_ROOT/test/frame_035.jpg\n",
      "/home/ubuntu/P2PNet/DATA_ROOT/test/frame_029.jpg\n",
      "/home/ubuntu/P2PNet/DATA_ROOT/test/frame_020.jpg\n",
      "/home/ubuntu/P2PNet/DATA_ROOT/test/frame_056.jpg\n",
      "/home/ubuntu/P2PNet/DATA_ROOT/test/frame_032.jpg\n",
      "/home/ubuntu/P2PNet/DATA_ROOT/test/frame_040.jpg\n",
      "/home/ubuntu/P2PNet/DATA_ROOT/test/frame_050.jpg\n",
      "/home/ubuntu/P2PNet/DATA_ROOT/test/frame_009.jpg\n",
      "/home/ubuntu/P2PNet/DATA_ROOT/test/frame_003.jpg\n",
      "/home/ubuntu/P2PNet/DATA_ROOT/test/frame_015.jpg\n",
      "/home/ubuntu/P2PNet/DATA_ROOT/test/frame_005.jpg\n",
      "/home/ubuntu/P2PNet/DATA_ROOT/test/frame_055.jpg\n",
      "/home/ubuntu/P2PNet/DATA_ROOT/test/frame_041.jpg\n",
      "/home/ubuntu/P2PNet/DATA_ROOT/test/frame_046.jpg\n",
      "/home/ubuntu/P2PNet/DATA_ROOT/test/frame_016.jpg\n",
      "/home/ubuntu/P2PNet/DATA_ROOT/test/frame_027.jpg\n",
      "/home/ubuntu/P2PNet/DATA_ROOT/test/frame_018.jpg\n",
      "/home/ubuntu/P2PNet/DATA_ROOT/test/frame_024.jpg\n",
      "/home/ubuntu/P2PNet/DATA_ROOT/test/frame_012.jpg\n",
      "/home/ubuntu/P2PNet/DATA_ROOT/test/frame_054.jpg\n",
      "/home/ubuntu/P2PNet/DATA_ROOT/test/frame_006.jpg\n",
      "/home/ubuntu/P2PNet/DATA_ROOT/test/frame_043.jpg\n",
      "/home/ubuntu/P2PNet/DATA_ROOT/test/frame_011.jpg\n",
      "/home/ubuntu/P2PNet/DATA_ROOT/test/frame_023.jpg\n",
      "/home/ubuntu/P2PNet/DATA_ROOT/test/frame_034.jpg\n",
      "/home/ubuntu/P2PNet/DATA_ROOT/test/frame_052.jpg\n",
      "/home/ubuntu/P2PNet/DATA_ROOT/test/frame_014.jpg\n",
      "/home/ubuntu/P2PNet/DATA_ROOT/test/frame_044.jpg\n",
      "/home/ubuntu/P2PNet/DATA_ROOT/test/frame_031.jpg\n",
      "/home/ubuntu/P2PNet/DATA_ROOT/test/frame_045.jpg\n",
      "/home/ubuntu/P2PNet/DATA_ROOT/test/frame_037.jpg\n",
      "/home/ubuntu/P2PNet/DATA_ROOT/test/frame_008.jpg\n",
      "/home/ubuntu/P2PNet/DATA_ROOT/test/frame_002.jpg\n",
      "/home/ubuntu/P2PNet/DATA_ROOT/test/frame_001.jpg\n",
      "/home/ubuntu/P2PNet/DATA_ROOT/test/frame_004.jpg\n",
      "/home/ubuntu/P2PNet/DATA_ROOT/test/frame_047.jpg\n",
      "/home/ubuntu/P2PNet/DATA_ROOT/test/frame_019.jpg\n",
      "/home/ubuntu/P2PNet/DATA_ROOT/test/frame_036.jpg\n"
     ]
    }
   ],
   "source": [
    "import os\n",
    "\n",
    "image_folder = \"/home/ubuntu/P2PNet/DATA_ROOT/test\"\n",
    "image_paths = [os.path.join(image_folder, filename) for filename in os.listdir(image_folder) if filename.endswith(\".jpg\")]\n",
    "for img_path in image_paths:\n",
    "    print(img_path)\n"
   ]
  },
  {
   "cell_type": "code",
   "execution_count": 2,
   "metadata": {},
   "outputs": [
    {
     "data": {
      "text/plain": [
       "tensor([[1., 2.],\n",
       "        [3., 4.]])"
      ]
     },
     "execution_count": 2,
     "metadata": {},
     "output_type": "execute_result"
    }
   ],
   "source": [
    "import torch\n",
    "\n",
    "# Example list of dictionaries\n",
    "target = [{'key1': 1, 'key2': 2}, {'key1': 3, 'key2': 4}]\n",
    "\n",
    "# Convert list of dictionaries to a tensor\n",
    "converted_target = torch.tensor([list(d.values()) for d in target], dtype=torch.float32)\n",
    "converted_target"
   ]
  }
 ],
 "metadata": {
  "kernelspec": {
   "display_name": "venv",
   "language": "python",
   "name": "python3"
  },
  "language_info": {
   "codemirror_mode": {
    "name": "ipython",
    "version": 3
   },
   "file_extension": ".py",
   "mimetype": "text/x-python",
   "name": "python",
   "nbconvert_exporter": "python",
   "pygments_lexer": "ipython3",
   "version": "3.8.10"
  },
  "orig_nbformat": 4
 },
 "nbformat": 4,
 "nbformat_minor": 2
}
